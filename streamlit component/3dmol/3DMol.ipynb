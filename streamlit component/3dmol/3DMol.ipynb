{
 "cells": [
  {
   "cell_type": "code",
   "execution_count": 1,
   "id": "d2fbd8ff",
   "metadata": {},
   "outputs": [],
   "source": [
    "import pandas as pd\n",
    "\n",
    "# Define a dictionary with the molecule data\n",
    "data = {\n",
    "    'SMILES': ['C1=CC=C2C(=C1)C=CC(=N2)N', 'C1=CC=C(C=C1)C(=O)NC2=CC=CC=C2'],\n",
    "    'Name': ['Indigo', 'Acetaminophen']\n",
    "}\n",
    "\n",
    "# Create a pandas DataFrame from the dictionary\n",
    "df = pd.DataFrame(data)\n",
    "\n",
    "# Save the DataFrame as a CSV file\n",
    "df.to_csv('molecules.csv', index=False)"
   ]
  },
  {
   "cell_type": "code",
   "execution_count": 2,
   "id": "d49dc141",
   "metadata": {},
   "outputs": [
    {
     "name": "stderr",
     "output_type": "stream",
     "text": [
      "2023-04-26 12:09:53.479 INFO    rdkit: Enabling RDKit 2022.09.5 jupyter extensions\n",
      "[12:09:54] Molecule does not have explicit Hs. Consider calling AddHs()\n",
      "2023-04-26 12:09:55.056 \n",
      "  \u001b[33m\u001b[1mWarning:\u001b[0m to view this Streamlit app on a browser, run it with the following\n",
      "  command:\n",
      "\n",
      "    streamlit run /opt/anaconda3/lib/python3.9/site-packages/ipykernel_launcher.py [ARGUMENTS]\n"
     ]
    },
    {
     "data": {
      "application/3dmoljs_load.v0": "<div id=\"3dmolviewer_1682491195058995\"  style=\"position: relative; width: 600px; height: 400px\">\n        <p id=\"3dmolwarning_1682491195058995\" style=\"background-color:#ffcccc;color:black\">You appear to be running in JupyterLab (or JavaScript failed to load for some other reason).  You need to install the 3dmol extension: <br>\n        <tt>jupyter labextension install jupyterlab_3dmol</tt></p>\n        </div>\n<script>\n\nvar loadScriptAsync = function(uri){\n  return new Promise((resolve, reject) => {\n    //this is to ignore the existence of requirejs amd\n    var savedexports, savedmodule;\n    if (typeof exports !== 'undefined') savedexports = exports;\n    else exports = {}\n    if (typeof module !== 'undefined') savedmodule = module;\n    else module = {}\n\n    var tag = document.createElement('script');\n    tag.src = uri;\n    tag.async = true;\n    tag.onload = () => {\n        exports = savedexports;\n        module = savedmodule;\n        resolve();\n    };\n  var firstScriptTag = document.getElementsByTagName('script')[0];\n  firstScriptTag.parentNode.insertBefore(tag, firstScriptTag);\n});\n};\n\nif(typeof $3Dmolpromise === 'undefined') {\n$3Dmolpromise = null;\n  $3Dmolpromise = loadScriptAsync('https://cdn.jsdelivr.net/npm/3dmol@latest/build/3Dmol-min.min.js');\n}\n\nvar viewer_1682491195058995 = null;\nvar warn = document.getElementById(\"3dmolwarning_1682491195058995\");\nif(warn) {\n    warn.parentNode.removeChild(warn);\n}\n$3Dmolpromise.then(function() {\nviewer_1682491195058995 = $3Dmol.createViewer(document.getElementById(\"3dmolviewer_1682491195058995\"),{backgroundColor:\"white\"});\nviewer_1682491195058995.zoomTo();\n\tviewer_1682491195058995.addModel(\"HETATM    1  C1  UNL     1      -2.811  -0.555  -0.315  1.00  0.00           C  \\nHETATM    2  C2  UNL     1      -2.652   0.756   0.086  1.00  0.00           C  \\nHETATM    3  C3  UNL     1      -1.408   1.299   0.315  1.00  0.00           C  \\nHETATM    4  C4  UNL     1      -0.259   0.559   0.154  1.00  0.00           C  \\nHETATM    5  C5  UNL     1      -0.402  -0.753  -0.247  1.00  0.00           C  \\nHETATM    6  C6  UNL     1      -1.652  -1.287  -0.473  1.00  0.00           C  \\nHETATM    7  C7  UNL     1       0.757  -1.490  -0.407  1.00  0.00           C  \\nHETATM    8  C8  UNL     1       2.006  -0.938  -0.175  1.00  0.00           C  \\nHETATM    9  C9  UNL     1       2.081   0.388   0.226  1.00  0.00           C  \\nHETATM   10  N1  UNL     1       0.966   1.095   0.379  1.00  0.00           N  \\nHETATM   11  N2  UNL     1       3.374   0.928   0.456  1.00  0.00           N  \\nCONECT    1    2    2    6\\nCONECT    2    3\\nCONECT    3    4    4\\nCONECT    4    5   10\\nCONECT    5    6    6    7\\nCONECT    7    8    8\\nCONECT    8    9\\nCONECT    9   10   10   11\\nEND\\n\",\"pdb\");\n\tviewer_1682491195058995.setStyle({\"stick\": {}});\n\tviewer_1682491195058995.zoomTo();\nviewer_1682491195058995.render();\n});\n</script>",
      "text/html": [
       "<div id=\"3dmolviewer_1682491195058995\"  style=\"position: relative; width: 600px; height: 400px\">\n",
       "        <p id=\"3dmolwarning_1682491195058995\" style=\"background-color:#ffcccc;color:black\">You appear to be running in JupyterLab (or JavaScript failed to load for some other reason).  You need to install the 3dmol extension: <br>\n",
       "        <tt>jupyter labextension install jupyterlab_3dmol</tt></p>\n",
       "        </div>\n",
       "<script>\n",
       "\n",
       "var loadScriptAsync = function(uri){\n",
       "  return new Promise((resolve, reject) => {\n",
       "    //this is to ignore the existence of requirejs amd\n",
       "    var savedexports, savedmodule;\n",
       "    if (typeof exports !== 'undefined') savedexports = exports;\n",
       "    else exports = {}\n",
       "    if (typeof module !== 'undefined') savedmodule = module;\n",
       "    else module = {}\n",
       "\n",
       "    var tag = document.createElement('script');\n",
       "    tag.src = uri;\n",
       "    tag.async = true;\n",
       "    tag.onload = () => {\n",
       "        exports = savedexports;\n",
       "        module = savedmodule;\n",
       "        resolve();\n",
       "    };\n",
       "  var firstScriptTag = document.getElementsByTagName('script')[0];\n",
       "  firstScriptTag.parentNode.insertBefore(tag, firstScriptTag);\n",
       "});\n",
       "};\n",
       "\n",
       "if(typeof $3Dmolpromise === 'undefined') {\n",
       "$3Dmolpromise = null;\n",
       "  $3Dmolpromise = loadScriptAsync('https://cdn.jsdelivr.net/npm/3dmol@latest/build/3Dmol-min.min.js');\n",
       "}\n",
       "\n",
       "var viewer_1682491195058995 = null;\n",
       "var warn = document.getElementById(\"3dmolwarning_1682491195058995\");\n",
       "if(warn) {\n",
       "    warn.parentNode.removeChild(warn);\n",
       "}\n",
       "$3Dmolpromise.then(function() {\n",
       "viewer_1682491195058995 = $3Dmol.createViewer(document.getElementById(\"3dmolviewer_1682491195058995\"),{backgroundColor:\"white\"});\n",
       "viewer_1682491195058995.zoomTo();\n",
       "\tviewer_1682491195058995.addModel(\"HETATM    1  C1  UNL     1      -2.811  -0.555  -0.315  1.00  0.00           C  \\nHETATM    2  C2  UNL     1      -2.652   0.756   0.086  1.00  0.00           C  \\nHETATM    3  C3  UNL     1      -1.408   1.299   0.315  1.00  0.00           C  \\nHETATM    4  C4  UNL     1      -0.259   0.559   0.154  1.00  0.00           C  \\nHETATM    5  C5  UNL     1      -0.402  -0.753  -0.247  1.00  0.00           C  \\nHETATM    6  C6  UNL     1      -1.652  -1.287  -0.473  1.00  0.00           C  \\nHETATM    7  C7  UNL     1       0.757  -1.490  -0.407  1.00  0.00           C  \\nHETATM    8  C8  UNL     1       2.006  -0.938  -0.175  1.00  0.00           C  \\nHETATM    9  C9  UNL     1       2.081   0.388   0.226  1.00  0.00           C  \\nHETATM   10  N1  UNL     1       0.966   1.095   0.379  1.00  0.00           N  \\nHETATM   11  N2  UNL     1       3.374   0.928   0.456  1.00  0.00           N  \\nCONECT    1    2    2    6\\nCONECT    2    3\\nCONECT    3    4    4\\nCONECT    4    5   10\\nCONECT    5    6    6    7\\nCONECT    7    8    8\\nCONECT    8    9\\nCONECT    9   10   10   11\\nEND\\n\",\"pdb\");\n",
       "\tviewer_1682491195058995.setStyle({\"stick\": {}});\n",
       "\tviewer_1682491195058995.zoomTo();\n",
       "viewer_1682491195058995.render();\n",
       "});\n",
       "</script>"
      ]
     },
     "metadata": {},
     "output_type": "display_data"
    },
    {
     "name": "stderr",
     "output_type": "stream",
     "text": [
      "[12:09:55] Molecule does not have explicit Hs. Consider calling AddHs()\n"
     ]
    },
    {
     "data": {
      "application/3dmoljs_load.v0": "<div id=\"3dmolviewer_1682491195082689\"  style=\"position: relative; width: 600px; height: 400px\">\n        <p id=\"3dmolwarning_1682491195082689\" style=\"background-color:#ffcccc;color:black\">You appear to be running in JupyterLab (or JavaScript failed to load for some other reason).  You need to install the 3dmol extension: <br>\n        <tt>jupyter labextension install jupyterlab_3dmol</tt></p>\n        </div>\n<script>\n\nvar loadScriptAsync = function(uri){\n  return new Promise((resolve, reject) => {\n    //this is to ignore the existence of requirejs amd\n    var savedexports, savedmodule;\n    if (typeof exports !== 'undefined') savedexports = exports;\n    else exports = {}\n    if (typeof module !== 'undefined') savedmodule = module;\n    else module = {}\n\n    var tag = document.createElement('script');\n    tag.src = uri;\n    tag.async = true;\n    tag.onload = () => {\n        exports = savedexports;\n        module = savedmodule;\n        resolve();\n    };\n  var firstScriptTag = document.getElementsByTagName('script')[0];\n  firstScriptTag.parentNode.insertBefore(tag, firstScriptTag);\n});\n};\n\nif(typeof $3Dmolpromise === 'undefined') {\n$3Dmolpromise = null;\n  $3Dmolpromise = loadScriptAsync('https://cdn.jsdelivr.net/npm/3dmol@latest/build/3Dmol-min.min.js');\n}\n\nvar viewer_1682491195082689 = null;\nvar warn = document.getElementById(\"3dmolwarning_1682491195082689\");\nif(warn) {\n    warn.parentNode.removeChild(warn);\n}\n$3Dmolpromise.then(function() {\nviewer_1682491195082689 = $3Dmol.createViewer(document.getElementById(\"3dmolviewer_1682491195082689\"),{backgroundColor:\"white\"});\nviewer_1682491195082689.zoomTo();\n\tviewer_1682491195082689.addModel(\"HETATM    1  C1  UNL     1       4.705   0.063  -0.114  1.00  0.00           C  \\nHETATM    2  C2  UNL     1       4.132  -0.041   1.137  1.00  0.00           C  \\nHETATM    3  C3  UNL     1       2.752  -0.069   1.295  1.00  0.00           C  \\nHETATM    4  C4  UNL     1       1.902   0.005   0.214  1.00  0.00           C  \\nHETATM    5  C5  UNL     1       2.470   0.109  -1.034  1.00  0.00           C  \\nHETATM    6  C6  UNL     1       3.852   0.137  -1.196  1.00  0.00           C  \\nHETATM    7  C7  UNL     1       0.460  -0.028   0.427  1.00  0.00           C  \\nHETATM    8  O1  UNL     1       0.017  -0.124   1.597  1.00  0.00           O  \\nHETATM    9  N1  UNL     1      -0.489   0.042  -0.612  1.00  0.00           N  \\nHETATM   10  C8  UNL     1      -1.895   0.011  -0.413  1.00  0.00           C  \\nHETATM   11  C9  UNL     1      -2.728   0.087  -1.511  1.00  0.00           C  \\nHETATM   12  C10 UNL     1      -4.106   0.063  -1.413  1.00  0.00           C  \\nHETATM   13  C11 UNL     1      -4.702  -0.042  -0.155  1.00  0.00           C  \\nHETATM   14  C12 UNL     1      -3.872  -0.119   0.960  1.00  0.00           C  \\nHETATM   15  C13 UNL     1      -2.497  -0.092   0.818  1.00  0.00           C  \\nCONECT    1    2    2    6\\nCONECT    2    3\\nCONECT    3    4    4\\nCONECT    4    5    7\\nCONECT    5    6    6\\nCONECT    7    8    8    9\\nCONECT    9   10\\nCONECT   10   11   11   15\\nCONECT   11   12\\nCONECT   12   13   13\\nCONECT   13   14\\nCONECT   14   15   15\\nEND\\n\",\"pdb\");\n\tviewer_1682491195082689.setStyle({\"stick\": {}});\n\tviewer_1682491195082689.zoomTo();\nviewer_1682491195082689.render();\n});\n</script>",
      "text/html": [
       "<div id=\"3dmolviewer_1682491195082689\"  style=\"position: relative; width: 600px; height: 400px\">\n",
       "        <p id=\"3dmolwarning_1682491195082689\" style=\"background-color:#ffcccc;color:black\">You appear to be running in JupyterLab (or JavaScript failed to load for some other reason).  You need to install the 3dmol extension: <br>\n",
       "        <tt>jupyter labextension install jupyterlab_3dmol</tt></p>\n",
       "        </div>\n",
       "<script>\n",
       "\n",
       "var loadScriptAsync = function(uri){\n",
       "  return new Promise((resolve, reject) => {\n",
       "    //this is to ignore the existence of requirejs amd\n",
       "    var savedexports, savedmodule;\n",
       "    if (typeof exports !== 'undefined') savedexports = exports;\n",
       "    else exports = {}\n",
       "    if (typeof module !== 'undefined') savedmodule = module;\n",
       "    else module = {}\n",
       "\n",
       "    var tag = document.createElement('script');\n",
       "    tag.src = uri;\n",
       "    tag.async = true;\n",
       "    tag.onload = () => {\n",
       "        exports = savedexports;\n",
       "        module = savedmodule;\n",
       "        resolve();\n",
       "    };\n",
       "  var firstScriptTag = document.getElementsByTagName('script')[0];\n",
       "  firstScriptTag.parentNode.insertBefore(tag, firstScriptTag);\n",
       "});\n",
       "};\n",
       "\n",
       "if(typeof $3Dmolpromise === 'undefined') {\n",
       "$3Dmolpromise = null;\n",
       "  $3Dmolpromise = loadScriptAsync('https://cdn.jsdelivr.net/npm/3dmol@latest/build/3Dmol-min.min.js');\n",
       "}\n",
       "\n",
       "var viewer_1682491195082689 = null;\n",
       "var warn = document.getElementById(\"3dmolwarning_1682491195082689\");\n",
       "if(warn) {\n",
       "    warn.parentNode.removeChild(warn);\n",
       "}\n",
       "$3Dmolpromise.then(function() {\n",
       "viewer_1682491195082689 = $3Dmol.createViewer(document.getElementById(\"3dmolviewer_1682491195082689\"),{backgroundColor:\"white\"});\n",
       "viewer_1682491195082689.zoomTo();\n",
       "\tviewer_1682491195082689.addModel(\"HETATM    1  C1  UNL     1       4.705   0.063  -0.114  1.00  0.00           C  \\nHETATM    2  C2  UNL     1       4.132  -0.041   1.137  1.00  0.00           C  \\nHETATM    3  C3  UNL     1       2.752  -0.069   1.295  1.00  0.00           C  \\nHETATM    4  C4  UNL     1       1.902   0.005   0.214  1.00  0.00           C  \\nHETATM    5  C5  UNL     1       2.470   0.109  -1.034  1.00  0.00           C  \\nHETATM    6  C6  UNL     1       3.852   0.137  -1.196  1.00  0.00           C  \\nHETATM    7  C7  UNL     1       0.460  -0.028   0.427  1.00  0.00           C  \\nHETATM    8  O1  UNL     1       0.017  -0.124   1.597  1.00  0.00           O  \\nHETATM    9  N1  UNL     1      -0.489   0.042  -0.612  1.00  0.00           N  \\nHETATM   10  C8  UNL     1      -1.895   0.011  -0.413  1.00  0.00           C  \\nHETATM   11  C9  UNL     1      -2.728   0.087  -1.511  1.00  0.00           C  \\nHETATM   12  C10 UNL     1      -4.106   0.063  -1.413  1.00  0.00           C  \\nHETATM   13  C11 UNL     1      -4.702  -0.042  -0.155  1.00  0.00           C  \\nHETATM   14  C12 UNL     1      -3.872  -0.119   0.960  1.00  0.00           C  \\nHETATM   15  C13 UNL     1      -2.497  -0.092   0.818  1.00  0.00           C  \\nCONECT    1    2    2    6\\nCONECT    2    3\\nCONECT    3    4    4\\nCONECT    4    5    7\\nCONECT    5    6    6\\nCONECT    7    8    8    9\\nCONECT    9   10\\nCONECT   10   11   11   15\\nCONECT   11   12\\nCONECT   12   13   13\\nCONECT   13   14\\nCONECT   14   15   15\\nEND\\n\",\"pdb\");\n",
       "\tviewer_1682491195082689.setStyle({\"stick\": {}});\n",
       "\tviewer_1682491195082689.zoomTo();\n",
       "viewer_1682491195082689.render();\n",
       "});\n",
       "</script>"
      ]
     },
     "metadata": {},
     "output_type": "display_data"
    }
   ],
   "source": [
    "import streamlit as st\n",
    "import pandas as pd\n",
    "from rdkit import Chem\n",
    "from rdkit.Chem import AllChem\n",
    "import py3Dmol\n",
    "\n",
    "# Upload the dataset\n",
    "# uploaded_file = st.file_uploader(\"Choose a CSV file\", type=\"csv\")\n",
    "uploaded_file=df\n",
    "if uploaded_file is not None:\n",
    "    \n",
    "    \n",
    "    # Generate the 3Dmol view for each molecule\n",
    "    for i, row in df.iterrows():\n",
    "        view = py3Dmol.view(width=600, height=400)\n",
    "        \n",
    "        # Generate the 3D coordinates for the molecule using RDKit\n",
    "        mol = Chem.MolFromSmiles(row['SMILES'])\n",
    "        AllChem.EmbedMolecule(mol)\n",
    "        pdb = Chem.MolToPDBBlock(mol)\n",
    "        \n",
    "        # Load the molecule into the 3Dmol view\n",
    "        view.addModel(pdb, 'pdb')\n",
    "        view.setStyle({'stick': {}})\n",
    "        view.zoomTo()\n",
    "        \n",
    "        # Display the name of the molecule\n",
    "        st.write(f\"## {row['Name']}\")\n",
    "        \n",
    "        # Display the 3Dmol view of the molecule\n",
    "        st.write(view)\n"
   ]
  },
  {
   "cell_type": "code",
   "execution_count": null,
   "id": "74fcb7cf",
   "metadata": {},
   "outputs": [],
   "source": []
  }
 ],
 "metadata": {
  "kernelspec": {
   "display_name": "Python 3 (ipykernel)",
   "language": "python",
   "name": "python3"
  },
  "language_info": {
   "codemirror_mode": {
    "name": "ipython",
    "version": 3
   },
   "file_extension": ".py",
   "mimetype": "text/x-python",
   "name": "python",
   "nbconvert_exporter": "python",
   "pygments_lexer": "ipython3",
   "version": "3.9.13"
  },
  "vscode": {
   "interpreter": {
    "hash": "31f2aee4e71d21fbe5cf8b01ff0e069b9275f58929596ceb00d14d90e3e16cd6"
   }
  }
 },
 "nbformat": 4,
 "nbformat_minor": 5
}
